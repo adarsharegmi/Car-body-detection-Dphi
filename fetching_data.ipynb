{
  "nbformat": 4,
  "nbformat_minor": 0,
  "metadata": {
    "colab": {
      "name": "fetching_data.ipynb",
      "provenance": [],
      "authorship_tag": "ABX9TyOF9NTZgBW+p26dVSYr0+pC",
      "include_colab_link": true
    },
    "kernelspec": {
      "name": "python3",
      "display_name": "Python 3"
    },
    "language_info": {
      "name": "python"
    }
  },
  "cells": [
    {
      "cell_type": "markdown",
      "metadata": {
        "id": "view-in-github",
        "colab_type": "text"
      },
      "source": [
        "<a href=\"https://colab.research.google.com/github/adarsharegmi/dphi-challenges-and-learning-key-things/blob/main/fetching_data.ipynb\" target=\"_parent\"><img src=\"https://colab.research.google.com/assets/colab-badge.svg\" alt=\"Open In Colab\"/></a>"
      ]
    },
    {
      "cell_type": "code",
      "execution_count": 79,
      "metadata": {
        "id": "3L92Uy6kaUdN"
      },
      "outputs": [],
      "source": [
        "from bs4 import BeautifulSoup \n",
        "import requests\n",
        "import pandas as pd"
      ]
    },
    {
      "cell_type": "code",
      "source": [
        "def fetch_data(date):\n",
        "  URL = \"https://www.fcgo.gov.np/daily-budgetary-analysis?date_type=ad&eng_search_date=&np_search_date=\"+date+\"&submit=\"\n",
        "  respo = requests.get(URL)\n",
        "\n",
        "  soup = BeautifulSoup(respo.content, 'html5lib') \n",
        "  result = soup.find('table', id= \"daily-budgetary-tbl\").find('tbody').find_all('tr')\n",
        "\n",
        "  # fetch\n",
        "  li_data = []\n",
        "  for tr in result:\n",
        "    for k, j in enumerate(tr.find_all('td')[::-1]):\n",
        "      if k ==1:\n",
        "        li_data.append(str(j)[4:][:-5].strip())\n",
        "        break\n",
        "  return li_data"
      ],
      "metadata": {
        "id": "VVMdOdJZkOSa"
      },
      "execution_count": 75,
      "outputs": []
    },
    {
      "cell_type": "code",
      "source": [
        "import datetime\n",
        "from datetime import date, timedelta\n",
        "\n",
        "days_before_to_fetch_data = 150\n",
        "\n",
        "li_total = {}\n",
        "for k in range(1, days_before_to_fetch_data):\n",
        "  yop = date.today() - timedelta(days=k)\n",
        "  li_total[str(yop)]=fetch_data(str(yop))\n",
        "\n",
        "li_total"
      ],
      "metadata": {
        "id": "KhtAS7dPk8_h"
      },
      "execution_count": null,
      "outputs": []
    },
    {
      "cell_type": "code",
      "source": [
        "from google.colab import files\n",
        "df = pd.DataFrame(li_total)\n",
        "df.to_excel(\"results.xlsx\")\n",
        "files.download(\"results.xlsx\")"
      ],
      "metadata": {
        "colab": {
          "base_uri": "https://localhost:8080/",
          "height": 17
        },
        "id": "SMtVANbroREu",
        "outputId": "6ca193f7-4bf3-4cf0-c5dc-3d5fa46e346d"
      },
      "execution_count": 94,
      "outputs": [
        {
          "output_type": "display_data",
          "data": {
            "text/plain": [
              "<IPython.core.display.Javascript object>"
            ],
            "application/javascript": [
              "\n",
              "    async function download(id, filename, size) {\n",
              "      if (!google.colab.kernel.accessAllowed) {\n",
              "        return;\n",
              "      }\n",
              "      const div = document.createElement('div');\n",
              "      const label = document.createElement('label');\n",
              "      label.textContent = `Downloading \"${filename}\": `;\n",
              "      div.appendChild(label);\n",
              "      const progress = document.createElement('progress');\n",
              "      progress.max = size;\n",
              "      div.appendChild(progress);\n",
              "      document.body.appendChild(div);\n",
              "\n",
              "      const buffers = [];\n",
              "      let downloaded = 0;\n",
              "\n",
              "      const channel = await google.colab.kernel.comms.open(id);\n",
              "      // Send a message to notify the kernel that we're ready.\n",
              "      channel.send({})\n",
              "\n",
              "      for await (const message of channel.messages) {\n",
              "        // Send a message to notify the kernel that we're ready.\n",
              "        channel.send({})\n",
              "        if (message.buffers) {\n",
              "          for (const buffer of message.buffers) {\n",
              "            buffers.push(buffer);\n",
              "            downloaded += buffer.byteLength;\n",
              "            progress.value = downloaded;\n",
              "          }\n",
              "        }\n",
              "      }\n",
              "      const blob = new Blob(buffers, {type: 'application/binary'});\n",
              "      const a = document.createElement('a');\n",
              "      a.href = window.URL.createObjectURL(blob);\n",
              "      a.download = filename;\n",
              "      div.appendChild(a);\n",
              "      a.click();\n",
              "      div.remove();\n",
              "    }\n",
              "  "
            ]
          },
          "metadata": {}
        },
        {
          "output_type": "display_data",
          "data": {
            "text/plain": [
              "<IPython.core.display.Javascript object>"
            ],
            "application/javascript": [
              "download(\"download_891ca3b2-46bd-4884-9c3b-f311d06c5c6a\", \"results.xlsx\", 5403)"
            ]
          },
          "metadata": {}
        }
      ]
    }
  ]
}